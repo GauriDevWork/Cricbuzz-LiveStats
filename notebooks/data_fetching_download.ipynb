{
 "cells": [
  {
   "cell_type": "markdown",
   "id": "2b4f2f2e",
   "metadata": {},
   "source": [
    "# data_fetching.ipynb — Cricbuzz LiveStats\n",
    "\n",
    "Notebook to fetch, parse and generate INSERT SQL for your local `cricketdb`. Fill the configuration cell before running cells that call the network or connect to DB."
   ]
  },
  {
   "cell_type": "code",
   "execution_count": null,
   "id": "35b031dd",
   "metadata": {},
   "outputs": [],
   "source": [
    "RAPIDAPI_KEY = '72d9f8fec5mshfc0f2f47123393ep150dedjsn98f5405906fe'\n",
    "RAPIDAPI_HOST = 'cricbuzz-cricket.p.rapidapi.com'\n",
    "\n",
    "DB_HOST = '127.0.0.1'\n",
    "DB_PORT = 3306\n",
    "DB_USER = 'root'\n",
    "DB_PASS = ''\n",
    "DB_NAME = 'cricketdb'\n",
    "print('Update the variables and run cells as needed')"
   ]
  },
  {
   "cell_type": "code",
   "execution_count": null,
   "id": "c97373ac",
   "metadata": {},
   "outputs": [],
   "source": [
    "import requests\n",
    "\n",
    "def rapidapi_get(path, params=None):\n",
    "    url = f'https://{RAPIDAPI_HOST}{path}'\n",
    "    headers = {'x-rapidapi-key': RAPIDAPI_KEY, 'x-rapidapi-host': RAPIDAPI_HOST}\n",
    "    r = requests.get(url, headers=headers, params=params, timeout=15)\n",
    "    r.raise_for_status()\n",
    "    return r.json()\n",
    "\n",
    "# Example usage (commented):\n",
    "# data = rapidapi_get('/matches/v1/live')\n",
    "# from pprint import pprint\n",
    "# pprint(data)\n",
    "print('rapidapi_get defined')"
   ]
  },
  {
   "cell_type": "code",
   "execution_count": null,
   "id": "331bf805",
   "metadata": {},
   "outputs": [],
   "source": [
    "import json, datetime\n",
    "\n",
    "def json_to_mysql_insert(table, rows, cols=None):\n",
    "    if not rows:\n",
    "        return ''\n",
    "    if cols is None:\n",
    "        cols = list(rows[0].keys())\n",
    "    def fmt(v):\n",
    "        if v is None:\n",
    "            return 'NULL'\n",
    "        if isinstance(v, (int, float)):\n",
    "            return str(v)\n",
    "        if isinstance(v, bool):\n",
    "            return '1' if v else '0'\n",
    "        s = str(v).replace('\\\\','\\\\\\\\').replace(\"'\",\"\\\\'\")\n",
    "        return f\"'{s}'\"\n",
    "    vals = []\n",
    "    for r in rows:\n",
    "        vals.append('(' + ','.join(fmt(r.get(c)) for c in cols) + ')')\n",
    "    return f\"INSERT INTO {table} ({','.join(cols)}) VALUES\\n\" + ',\\n'.join(vals) + ';'"
   ]
  },
  {
   "cell_type": "code",
   "execution_count": null,
   "id": "eb7825ce",
   "metadata": {},
   "outputs": [],
   "source": [
    "teams_data = {\"list\": [{\"teamId\": 2, \"teamName\": \"India\", \"teamSName\": \"IND\", \"imageId\": 719031, \"countryName\": \"India\"}, {\"teamId\": 3, \"teamName\": \"Pakistan\", \"teamSName\": \"PAK\", \"imageId\": 591986, \"countryName\": \"Pakistan\"}]}\n",
    "print('teams_data loaded, count=', len(teams_data.get('list',[])))"
   ]
  },
  {
   "cell_type": "code",
   "execution_count": null,
   "id": "5fc88639",
   "metadata": {},
   "outputs": [],
   "source": [
    "rows = []\n",
    "for it in teams_data.get('list',[]):\n",
    "    rows.append({'team_id': it.get('teamId'), 'name': it.get('teamName'), 'country': it.get('countryName'), 'raw_json': json.dumps(it, ensure_ascii=False)})\n",
    "sql = json_to_mysql_insert('teams', rows, cols=['team_id','name','country','raw_json'])\n",
    "open('/mnt/data/teams_example_inserts.sql','w',encoding='utf8').write(sql)\n",
    "print('Wrote /mnt/data/teams_example_inserts.sql')"
   ]
  }
 ],
 "metadata": {
  "language_info": {
   "name": "python"
  }
 },
 "nbformat": 4,
 "nbformat_minor": 5
}
